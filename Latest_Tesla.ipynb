{
  "cells": [
    {
      "cell_type": "code",
      "execution_count": null,
      "metadata": {
        "colab": {
          "base_uri": "https://localhost:8080/"
        },
        "id": "aPY6w1Do8X00",
        "outputId": "a3699dcb-6a03-4b27-d48d-30cf861c8844"
      },
      "outputs": [
        {
          "name": "stdout",
          "output_type": "stream",
          "text": [
            "\u001b[2K     \u001b[90m━━━━━━━━━━━━━━━━━━━━━━━━━━━━━━━━━━━━━━━━\u001b[0m \u001b[32m44.3/44.3 kB\u001b[0m \u001b[31m1.7 MB/s\u001b[0m eta \u001b[36m0:00:00\u001b[0m\n",
            "\u001b[2K   \u001b[90m━━━━━━━━━━━━━━━━━━━━━━━━━━━━━━━━━━━━━━━━\u001b[0m \u001b[32m9.9/9.9 MB\u001b[0m \u001b[31m39.3 MB/s\u001b[0m eta \u001b[36m0:00:00\u001b[0m\n",
            "\u001b[2K   \u001b[90m━━━━━━━━━━━━━━━━━━━━━━━━━━━━━━━━━━━━━━━━\u001b[0m \u001b[32m6.9/6.9 MB\u001b[0m \u001b[31m97.9 MB/s\u001b[0m eta \u001b[36m0:00:00\u001b[0m\n",
            "\u001b[2K   \u001b[90m━━━━━━━━━━━━━━━━━━━━━━━━━━━━━━━━━━━━━━━━\u001b[0m \u001b[32m79.1/79.1 kB\u001b[0m \u001b[31m5.8 MB/s\u001b[0m eta \u001b[36m0:00:00\u001b[0m\n",
            "\u001b[?25h"
          ]
        }
      ],
      "source": []
    },
    {
      "cell_type": "code",
      "execution_count": null,
      "metadata": {
        "colab": {
          "base_uri": "https://localhost:8080/",
          "height": 373
        },
        "id": "7lsKEcXGkG0x",
        "outputId": "bda7ac76-aef5-4ebe-97eb-fb2e26eb7735"
      },
      "outputs": [
        {
          "ename": "FileNotFoundError",
          "evalue": "[Errno 2] No such file or directory: 'Tesla_Stock_Updated_V2.csv'",
          "output_type": "error",
          "traceback": [
            "\u001b[0;31m---------------------------------------------------------------------------\u001b[0m",
            "\u001b[0;31mFileNotFoundError\u001b[0m                         Traceback (most recent call last)",
            "\u001b[0;32m<ipython-input-4-4f5040f2dceb>\u001b[0m in \u001b[0;36m<cell line: 0>\u001b[0;34m()\u001b[0m\n\u001b[1;32m      6\u001b[0m \u001b[0;34m\u001b[0m\u001b[0m\n\u001b[1;32m      7\u001b[0m \u001b[0;31m# Load the dataset\u001b[0m\u001b[0;34m\u001b[0m\u001b[0;34m\u001b[0m\u001b[0m\n\u001b[0;32m----> 8\u001b[0;31m \u001b[0mdf\u001b[0m \u001b[0;34m=\u001b[0m \u001b[0mpd\u001b[0m\u001b[0;34m.\u001b[0m\u001b[0mread_csv\u001b[0m\u001b[0;34m(\u001b[0m\u001b[0;34m'Tesla_Stock_Updated_V2.csv'\u001b[0m\u001b[0;34m)\u001b[0m\u001b[0;34m\u001b[0m\u001b[0;34m\u001b[0m\u001b[0m\n\u001b[0m\u001b[1;32m      9\u001b[0m \u001b[0;34m\u001b[0m\u001b[0m\n\u001b[1;32m     10\u001b[0m \u001b[0;31m# Convert 'Date' column to datetime and set as index\u001b[0m\u001b[0;34m\u001b[0m\u001b[0;34m\u001b[0m\u001b[0m\n",
            "\u001b[0;32m/usr/local/lib/python3.11/dist-packages/pandas/io/parsers/readers.py\u001b[0m in \u001b[0;36mread_csv\u001b[0;34m(filepath_or_buffer, sep, delimiter, header, names, index_col, usecols, dtype, engine, converters, true_values, false_values, skipinitialspace, skiprows, skipfooter, nrows, na_values, keep_default_na, na_filter, verbose, skip_blank_lines, parse_dates, infer_datetime_format, keep_date_col, date_parser, date_format, dayfirst, cache_dates, iterator, chunksize, compression, thousands, decimal, lineterminator, quotechar, quoting, doublequote, escapechar, comment, encoding, encoding_errors, dialect, on_bad_lines, delim_whitespace, low_memory, memory_map, float_precision, storage_options, dtype_backend)\u001b[0m\n\u001b[1;32m   1024\u001b[0m     \u001b[0mkwds\u001b[0m\u001b[0;34m.\u001b[0m\u001b[0mupdate\u001b[0m\u001b[0;34m(\u001b[0m\u001b[0mkwds_defaults\u001b[0m\u001b[0;34m)\u001b[0m\u001b[0;34m\u001b[0m\u001b[0;34m\u001b[0m\u001b[0m\n\u001b[1;32m   1025\u001b[0m \u001b[0;34m\u001b[0m\u001b[0m\n\u001b[0;32m-> 1026\u001b[0;31m     \u001b[0;32mreturn\u001b[0m \u001b[0m_read\u001b[0m\u001b[0;34m(\u001b[0m\u001b[0mfilepath_or_buffer\u001b[0m\u001b[0;34m,\u001b[0m \u001b[0mkwds\u001b[0m\u001b[0;34m)\u001b[0m\u001b[0;34m\u001b[0m\u001b[0;34m\u001b[0m\u001b[0m\n\u001b[0m\u001b[1;32m   1027\u001b[0m \u001b[0;34m\u001b[0m\u001b[0m\n\u001b[1;32m   1028\u001b[0m \u001b[0;34m\u001b[0m\u001b[0m\n",
            "\u001b[0;32m/usr/local/lib/python3.11/dist-packages/pandas/io/parsers/readers.py\u001b[0m in \u001b[0;36m_read\u001b[0;34m(filepath_or_buffer, kwds)\u001b[0m\n\u001b[1;32m    618\u001b[0m \u001b[0;34m\u001b[0m\u001b[0m\n\u001b[1;32m    619\u001b[0m     \u001b[0;31m# Create the parser.\u001b[0m\u001b[0;34m\u001b[0m\u001b[0;34m\u001b[0m\u001b[0m\n\u001b[0;32m--> 620\u001b[0;31m     \u001b[0mparser\u001b[0m \u001b[0;34m=\u001b[0m \u001b[0mTextFileReader\u001b[0m\u001b[0;34m(\u001b[0m\u001b[0mfilepath_or_buffer\u001b[0m\u001b[0;34m,\u001b[0m \u001b[0;34m**\u001b[0m\u001b[0mkwds\u001b[0m\u001b[0;34m)\u001b[0m\u001b[0;34m\u001b[0m\u001b[0;34m\u001b[0m\u001b[0m\n\u001b[0m\u001b[1;32m    621\u001b[0m \u001b[0;34m\u001b[0m\u001b[0m\n\u001b[1;32m    622\u001b[0m     \u001b[0;32mif\u001b[0m \u001b[0mchunksize\u001b[0m \u001b[0;32mor\u001b[0m \u001b[0miterator\u001b[0m\u001b[0;34m:\u001b[0m\u001b[0;34m\u001b[0m\u001b[0;34m\u001b[0m\u001b[0m\n",
            "\u001b[0;32m/usr/local/lib/python3.11/dist-packages/pandas/io/parsers/readers.py\u001b[0m in \u001b[0;36m__init__\u001b[0;34m(self, f, engine, **kwds)\u001b[0m\n\u001b[1;32m   1618\u001b[0m \u001b[0;34m\u001b[0m\u001b[0m\n\u001b[1;32m   1619\u001b[0m         \u001b[0mself\u001b[0m\u001b[0;34m.\u001b[0m\u001b[0mhandles\u001b[0m\u001b[0;34m:\u001b[0m \u001b[0mIOHandles\u001b[0m \u001b[0;34m|\u001b[0m \u001b[0;32mNone\u001b[0m \u001b[0;34m=\u001b[0m \u001b[0;32mNone\u001b[0m\u001b[0;34m\u001b[0m\u001b[0;34m\u001b[0m\u001b[0m\n\u001b[0;32m-> 1620\u001b[0;31m         \u001b[0mself\u001b[0m\u001b[0;34m.\u001b[0m\u001b[0m_engine\u001b[0m \u001b[0;34m=\u001b[0m \u001b[0mself\u001b[0m\u001b[0;34m.\u001b[0m\u001b[0m_make_engine\u001b[0m\u001b[0;34m(\u001b[0m\u001b[0mf\u001b[0m\u001b[0;34m,\u001b[0m \u001b[0mself\u001b[0m\u001b[0;34m.\u001b[0m\u001b[0mengine\u001b[0m\u001b[0;34m)\u001b[0m\u001b[0;34m\u001b[0m\u001b[0;34m\u001b[0m\u001b[0m\n\u001b[0m\u001b[1;32m   1621\u001b[0m \u001b[0;34m\u001b[0m\u001b[0m\n\u001b[1;32m   1622\u001b[0m     \u001b[0;32mdef\u001b[0m \u001b[0mclose\u001b[0m\u001b[0;34m(\u001b[0m\u001b[0mself\u001b[0m\u001b[0;34m)\u001b[0m \u001b[0;34m->\u001b[0m \u001b[0;32mNone\u001b[0m\u001b[0;34m:\u001b[0m\u001b[0;34m\u001b[0m\u001b[0;34m\u001b[0m\u001b[0m\n",
            "\u001b[0;32m/usr/local/lib/python3.11/dist-packages/pandas/io/parsers/readers.py\u001b[0m in \u001b[0;36m_make_engine\u001b[0;34m(self, f, engine)\u001b[0m\n\u001b[1;32m   1878\u001b[0m                 \u001b[0;32mif\u001b[0m \u001b[0;34m\"b\"\u001b[0m \u001b[0;32mnot\u001b[0m \u001b[0;32min\u001b[0m \u001b[0mmode\u001b[0m\u001b[0;34m:\u001b[0m\u001b[0;34m\u001b[0m\u001b[0;34m\u001b[0m\u001b[0m\n\u001b[1;32m   1879\u001b[0m                     \u001b[0mmode\u001b[0m \u001b[0;34m+=\u001b[0m \u001b[0;34m\"b\"\u001b[0m\u001b[0;34m\u001b[0m\u001b[0;34m\u001b[0m\u001b[0m\n\u001b[0;32m-> 1880\u001b[0;31m             self.handles = get_handle(\n\u001b[0m\u001b[1;32m   1881\u001b[0m                 \u001b[0mf\u001b[0m\u001b[0;34m,\u001b[0m\u001b[0;34m\u001b[0m\u001b[0;34m\u001b[0m\u001b[0m\n\u001b[1;32m   1882\u001b[0m                 \u001b[0mmode\u001b[0m\u001b[0;34m,\u001b[0m\u001b[0;34m\u001b[0m\u001b[0;34m\u001b[0m\u001b[0m\n",
            "\u001b[0;32m/usr/local/lib/python3.11/dist-packages/pandas/io/common.py\u001b[0m in \u001b[0;36mget_handle\u001b[0;34m(path_or_buf, mode, encoding, compression, memory_map, is_text, errors, storage_options)\u001b[0m\n\u001b[1;32m    871\u001b[0m         \u001b[0;32mif\u001b[0m \u001b[0mioargs\u001b[0m\u001b[0;34m.\u001b[0m\u001b[0mencoding\u001b[0m \u001b[0;32mand\u001b[0m \u001b[0;34m\"b\"\u001b[0m \u001b[0;32mnot\u001b[0m \u001b[0;32min\u001b[0m \u001b[0mioargs\u001b[0m\u001b[0;34m.\u001b[0m\u001b[0mmode\u001b[0m\u001b[0;34m:\u001b[0m\u001b[0;34m\u001b[0m\u001b[0;34m\u001b[0m\u001b[0m\n\u001b[1;32m    872\u001b[0m             \u001b[0;31m# Encoding\u001b[0m\u001b[0;34m\u001b[0m\u001b[0;34m\u001b[0m\u001b[0m\n\u001b[0;32m--> 873\u001b[0;31m             handle = open(\n\u001b[0m\u001b[1;32m    874\u001b[0m                 \u001b[0mhandle\u001b[0m\u001b[0;34m,\u001b[0m\u001b[0;34m\u001b[0m\u001b[0;34m\u001b[0m\u001b[0m\n\u001b[1;32m    875\u001b[0m                 \u001b[0mioargs\u001b[0m\u001b[0;34m.\u001b[0m\u001b[0mmode\u001b[0m\u001b[0;34m,\u001b[0m\u001b[0;34m\u001b[0m\u001b[0;34m\u001b[0m\u001b[0m\n",
            "\u001b[0;31mFileNotFoundError\u001b[0m: [Errno 2] No such file or directory: 'Tesla_Stock_Updated_V2.csv'"
          ]
        }
      ],
      "source": [
        "import pandas as pd\n",
        "import numpy as np\n",
        "import matplotlib.pyplot as plt\n",
        "import seaborn as sns\n",
        "from datetime import datetime\n",
        "\n",
        "# Load the dataset\n",
        "df = pd.read_csv('Tesla_Stock_Updated_V2.csv')\n",
        "\n",
        "# Convert 'Date' column to datetime and set as index\n",
        "df['Date'] = pd.to_datetime(df['Date'])\n",
        "df.set_index('Date', inplace=True)"
      ]
    },
    {
      "cell_type": "code",
      "execution_count": null,
      "metadata": {
        "id": "x5daEf8FkunX"
      },
      "outputs": [],
      "source": [
        "# Remove duplicates\n",
        "df = df.drop_duplicates()\n",
        "\n",
        "# Check for missing values\n",
        "print(\"Missing values in each column: \")\n",
        "print(df.isnull().sum())\n",
        "\n",
        "# Basic statistics\n",
        "print(\"Basic statistics: \")\n",
        "print(df.describe())"
      ]
    },
    {
      "cell_type": "code",
      "execution_count": null,
      "metadata": {
        "id": "92HrMlImlCMF"
      },
      "outputs": [],
      "source": [
        "# Calculate daily returns\n",
        "df['Daily_Return'] = df['Close'].pct_change() * 100\n",
        "\n",
        "# Calculate moving averages\n",
        "df['MA20'] = df['Close'].rolling(window=50).mean()\n",
        "df['MA50'] = df['Close'].rolling(window=200).mean()"
      ]
    },
    {
      "cell_type": "code",
      "execution_count": null,
      "metadata": {
        "id": "kWKHm7sllkAW"
      },
      "outputs": [],
      "source": [
        "# Plot stock trends in 2x2 grid\n",
        "fig, axs = plt.subplots(2, 2, figsize=(15,10))\n",
        "\n",
        "# Subplot 1: Close Price & MAs\n",
        "axs[0,0].plot(df.index, df['Close'], label='Close Price', color='blue')\n",
        "axs[0,0].plot(df.index, df['MA20'], label='20-day MA', color='red')\n",
        "axs[0,0].plot(df.index, df['MA50'], label='50-day MA', color='green')\n",
        "axs[0,0].set_title('Tesla Stock Price and Moving Averages')\n",
        "axs[0,0].legend()\n",
        "\n",
        "# Subplot 2: Daily Returns Histogram\n",
        "axs[0,1].hist(df['Daily_Return'].dropna(), bins=50, color='steelblue', edgecolor='black')\n",
        "axs[0,1].set_title('Distribution of Daily Returns')\n",
        "\n",
        "# Subplot 3: Volume Bar Plot\n",
        "axs[1,0].bar(df.index, df['Volume'], color='dodgerblue', width=1.0)\n",
        "axs[1,0].set_title('Trading Volume')\n",
        "\n",
        "#Subplot 4: Price Range (High - Low)\n",
        "df['Price_Range'] = df['High'] - df['Low']\n",
        "axs[1,1].plot(df.index, df['Price_Range'], color='seagreen')\n",
        "axs[1,1].set_title('Daily Price Range (High-Low)')\n",
        "\n",
        "plt.tight_layout()\n",
        "plt.show()"
      ]
    },
    {
      "cell_type": "code",
      "execution_count": null,
      "metadata": {
        "id": "Qq7gaJfnqQk-"
      },
      "outputs": [],
      "source": [
        "# Trading stats\n",
        "total_days = len(df)\n",
        "pos_days = len(df[df['Daily_Return'] > 0])\n",
        "neg_days = len(df[df['Daily_Return'] < 0])\n",
        "\n",
        "print(f\"\\nTotal trading days: {total_days}\")\n",
        "print(f\"Positive days: {pos_days} ({(pos_days/total_days)*100:.2f}%)\")\n",
        "print(f\"Negative days: {neg_days} ({(neg_days/total_days)*100:.2f}%)\")\n",
        "\n",
        "# Save cleaned data\n",
        "df.to_csv('tesla_stock_cleaned.csv')"
      ]
    },
    {
      "cell_type": "code",
      "execution_count": null,
      "metadata": {
        "id": "JMq0y8UZrgQ2"
      },
      "outputs": [],
      "source": [
        "def calculate_rsi(prices, period=14):\n",
        "    prices = np.array(prices)\n",
        "    deltas = np.diff(prices)\n",
        "    gains = np.where(deltas > 0, deltas, 0)\n",
        "    losses = np.where(deltas < 0, -deltas, 0)\n",
        "\n",
        "    avg_gain = np.zeros_like(prices)\n",
        "    avg_loss = np.zeros_like(prices)\n",
        "    avg_gain[period] = np.mean(gains[:period])\n",
        "    avg_loss[period] = np.mean(losses[:period])\n",
        "\n",
        "    for i in range(period + 1, len(prices)):\n",
        "      avg_gain[i] = (avg_gain[i-1] * (period-1) + gains[i-1]) / period\n",
        "      avg_loss[i] = (avg_loss[i-1] * (period-1) + losses[i-1]) / period\n",
        "\n",
        "    epsilon = 1e-10\n",
        "    rs = avg_gain / (avg_loss + epsilon)\n",
        "    rsi = 100 - (100 / (1 + rs))\n",
        "    rsi[:period] = np.nan\n",
        "    return rsi\n"
      ]
    },
    {
      "cell_type": "code",
      "execution_count": null,
      "metadata": {
        "id": "Fbcemj04to1T"
      },
      "outputs": [],
      "source": [
        "# Apply RSI calculation\n",
        "df['RSI'] = calculate_rsi(df['Close'].values, period=14)\n",
        "\n",
        "# Plot RSI\n",
        "plt.figure(figsize=(12, 5))\n",
        "plt.plot(df.index, df['RSI'], label='RSI', color='purple')\n",
        "plt.axhline(70, color='red', linestyle='--', linewidth=2)\n",
        "plt.axhline(30, color='green', linestyle='--', linewidth=2)\n",
        "plt.title('Relative Strength Index (RSI)')\n",
        "plt.xlabel('Date')\n",
        "plt.ylabel('RSI')\n",
        "plt.ylim(0, 100)\n",
        "plt.grid(True, alpha=0.3)\n",
        "plt.legend()\n",
        "plt.tight_layout()\n",
        "plt.show()"
      ]
    },
    {
      "cell_type": "code",
      "execution_count": null,
      "metadata": {
        "id": "mF3QAuWJuXCE"
      },
      "outputs": [],
      "source": [
        "from sklearn.linear_model import LinearRegression\n",
        "from sklearn.ensemble import RandomForestRegressor, GradientBoostingRegressor\n",
        "from sklearn.metrics import mean_squared_error"
      ]
    },
    {
      "cell_type": "code",
      "execution_count": null,
      "metadata": {
        "id": "yD7Th7wRxz2u"
      },
      "outputs": [],
      "source": [
        "csv_path = 'tesla_stock_cleaned.csv'\n",
        "df = pd.read_csv(csv_path)\n",
        "df['Date'] = pd.to_datetime(df['Date'])\n",
        "\n",
        "# Calculate RSI if not available\n",
        "if 'RSI' not in df.columns:\n",
        "    df['RSI'] = calculate_rsi(df['Close'].values, period=14)\n",
        "\n",
        "# Drop missing values\n",
        "df = df.dropna().reset_index(drop=True)\n",
        "\n",
        "# Create target: next day's close\n",
        "df['Close_Next'] = df['Close'].shift(-1)\n",
        "df = df[:-1]  # Drop last row with NaN target\n",
        "\n",
        "features = ['Close', 'Open', 'High', 'Low', 'Volume', 'MA20', 'MA50', 'RSI']\n",
        "X = df[features]\n",
        "y_reg = df['Close_Next']\n",
        "\n",
        "# Time-based train/test split\n",
        "split_idx = int(0.8 * len(df))\n",
        "X_train, X_test = X.iloc[:split_idx], X.iloc[split_idx:]\n",
        "y_reg_train, y_reg_test = y_reg.iloc[:split_idx], y_reg.iloc[split_idx:]\n"
      ]
    },
    {
      "cell_type": "code",
      "execution_count": null,
      "metadata": {
        "id": "AAxifdY_yLmT"
      },
      "outputs": [],
      "source": [
        "# Linear Regression\n",
        "reg = LinearRegression()\n",
        "reg.fit(X_train, y_reg_train)\n",
        "y_reg_pred = reg.predict(X_test)\n",
        "print(f\"[Linear Regression] RMSE: {np.sqrt(mean_squared_error(y_reg_test, y_reg_pred)):.4f}\")\n",
        "\n",
        "# Random Forest\n",
        "rf = RandomForestRegressor(n_estimators=100, random_state=42)\n",
        "rf.fit(X_train, y_reg_train)\n",
        "y_rf_pred = rf.predict(X_test)\n",
        "print(f\"[Random Forest] RMSE: {np.sqrt(mean_squared_error(y_reg_test, y_rf_pred)):.4f}\")\n",
        "\n",
        "# Gradient Boosting\n",
        "gb = GradientBoostingRegressor(n_estimators=100, random_state=42)\n",
        "gb.fit(X_train, y_reg_train)\n",
        "y_gb_pred = gb.predict(X_test)\n",
        "print(f\"[Gradient Boosting] RMSE: {np.sqrt(mean_squared_error(y_reg_test, y_gb_pred)):.4f}\")\n"
      ]
    },
    {
      "cell_type": "code",
      "execution_count": null,
      "metadata": {
        "id": "094jEq9aydtK"
      },
      "outputs": [],
      "source": [
        "plt.figure(figsize=(12,5))\n",
        "plt.plot(df['Date'].iloc[split_idx:], y_reg_test, label='Actual Close', color='blue')\n",
        "plt.plot(df['Date'].iloc[split_idx:], y_reg_pred, label='Linear Regression', color='orange')\n",
        "plt.plot(df['Date'].iloc[split_idx:], y_rf_pred, label='Random Forest', color='green')\n",
        "plt.plot(df['Date'].iloc[split_idx:], y_gb_pred, label='Gradient Boosting', color='red')\n",
        "plt.title('Next Day Closing Price Prediction (All Models)')\n",
        "plt.xlabel('Date')\n",
        "plt.ylabel('Price')\n",
        "plt.legend()\n",
        "plt.tight_layout()\n",
        "plt.show()"
      ]
    },
    {
      "cell_type": "code",
      "execution_count": null,
      "metadata": {
        "id": "W_hARPvRykf8"
      },
      "outputs": [],
      "source": [
        "future_days = 30\n",
        "last_row = df.iloc[-1].copy()\n",
        "future_dates = [last_row['Date'] + pd.Timedelta(days=i+1) for i in range(future_days)]\n",
        "\n",
        "close_hist = list(df['Close'].values)\n",
        "future_preds_lr, future_preds_rf, future_preds_gb = [], [], []\n",
        "\n",
        "for i in range(future_days):\n",
        "    open_, high_, low_, volume_ = last_row['Open'], last_row['High'], last_row['Low'], last_row['Volume']\n",
        "    ma20 = np.mean(close_hist[-19:]) if len(close_hist) >= 19 else np.mean(close_hist)\n",
        "    ma50 = np.mean(close_hist[-49:]) if len(close_hist) >= 49 else np.mean(close_hist)\n",
        "    rsi = calculate_rsi(np.array(close_hist), period=14)[-1]\n",
        "    features_next = pd.DataFrame({\n",
        "    'Close': [close_hist[-1]],\n",
        "    'Open': [open_],\n",
        "    'High': [high_],\n",
        "    'Low': [low_],\n",
        "    'Volume': [volume_],\n",
        "    'MA20': [ma20],\n",
        "    'MA50': [ma50],\n",
        "    'RSI': [rsi]\n",
        "})\n",
        "\n",
        "    pred_lr = reg.predict(features_next)[0]\n",
        "    pred_rf = rf.predict(features_next)[0]\n",
        "    pred_gb = gb.predict(features_next)[0]\n",
        "\n",
        "    future_preds_lr.append(pred_lr)\n",
        "    future_preds_rf.append(pred_rf)\n",
        "    future_preds_gb.append(pred_gb)\n",
        "\n",
        "    close_hist.append(pred_lr)\n",
        "    last_row['Close'] = pred_lr\n",
        "    last_row['MA20'] = ma20\n",
        "    last_row['MA50'] = ma50\n",
        "    last_row['RSI'] = rsi\n"
      ]
    },
    {
      "cell_type": "code",
      "execution_count": null,
      "metadata": {
        "id": "owI86txOynBR"
      },
      "outputs": [],
      "source": [
        "plt.figure(figsize=(12,5))\n",
        "plt.plot(df['Date'].iloc[split_idx:], y_reg_test, label='Actual Close', color='blue')\n",
        "plt.plot(df['Date'].iloc[split_idx:], y_reg_pred, label='Linear Regression (Test)', color='orange')\n",
        "plt.plot(df['Date'].iloc[split_idx:], y_rf_pred, label='Random Forest (Test)', color='green')\n",
        "plt.plot(df['Date'].iloc[split_idx:], y_gb_pred, label='Gradient Boosting (Test)', color='red')\n",
        "plt.plot(future_dates, future_preds_lr, label='Linear Regression (Future)', color='orange', linestyle='dashed')\n",
        "plt.plot(future_dates, future_preds_rf, label='Random Forest (Future)', color='green', linestyle='dashed')\n",
        "plt.plot(future_dates, future_preds_gb, label='Gradient Boosting (Future)', color='red', linestyle='dashed')\n",
        "plt.title('Next Day Closing Price Prediction (Test & 30-Day Future Forecast)')\n",
        "plt.xlabel('Date')\n",
        "plt.ylabel('Price')\n",
        "plt.legend()\n",
        "plt.tight_layout()\n",
        "plt.show()\n"
      ]
    },
    {
      "cell_type": "code",
      "execution_count": null,
      "metadata": {
        "id": "nmIQbd3v7YDE"
      },
      "outputs": [],
      "source": [
        "!ngrok config add-authtoken 2y8RA89LTrXIezrl3XcUWGVt00W_k3Uk6oyrwfNWNTifM258\n",
        "!pip install streamlit\n",
        "!pip install pyngrok"
      ]
    },
    {
      "cell_type": "code",
      "execution_count": null,
      "metadata": {
        "id": "NQvjha__WHYo"
      },
      "outputs": [],
      "source": [
        "%%writefile app.py\n",
        "import streamlit as st\n",
        "import pandas as pd\n",
        "import numpy as np\n",
        "import plotly.graph_objs as go\n",
        "from sklearn.linear_model import LinearRegression\n",
        "from sklearn.ensemble import RandomForestRegressor, GradientBoostingRegressor\n",
        "from sklearn.metrics import mean_squared_error, mean_absolute_error, r2_score\n",
        "\n",
        "st.set_page_config(page_title='Tesla Stock Forecast', layout='wide')\n",
        "st.title('Tesla Stock Price Forecasting App')\n",
        "\n",
        "# Upload or use default\n",
        "st.sidebar.header('Upload Dataset')\n",
        "file = st.sidebar.file_uploader('Upload CSV', type=['csv'])\n",
        "if file is not None:\n",
        "    df = pd.read_csv(file)\n",
        "else:\n",
        "    st.info('Using default tesla_stock_cleaned.csv')\n",
        "    # Sample fallback data\n",
        "    df = pd.read_csv('/content/Tesla_Stock_Updated_V2.csv')\n",
        "    df.rename(columns={'Adj Close': 'Close'}, inplace=True)\n",
        "\n",
        "df['Date'] = pd.to_datetime(df['Date'])\n",
        "\n",
        "# Feature engineering\n",
        "df['MA20'] = df['Close'].rolling(window=20).mean()\n",
        "df['MA50'] = df['Close'].rolling(window=50).mean()\n",
        "df['RSI'] = 100 - (100 / (1 + df['Close'].pct_change().rolling(14).mean()))\n",
        "df.dropna(inplace=True)\n",
        "df['Close_Next'] = df['Close'].shift(-1)\n",
        "df.dropna(inplace=True)\n",
        "\n",
        "features = ['Close', 'Open', 'High', 'Low', 'Volume', 'MA20', 'MA50', 'RSI']\n",
        "X = df[features]\n",
        "y = df['Close_Next']\n",
        "\n",
        "split = int(0.8 * len(df))\n",
        "X_train, X_test = X.iloc[:split], X.iloc[split:]\n",
        "y_train, y_test = y.iloc[:split], y.iloc[split:]\n",
        "\n",
        "# Model selection\n",
        "model_name = st.sidebar.selectbox('Select Model', ['Linear Regression', 'Random Forest', 'Gradient Boosting'])\n",
        "if model_name == 'Linear Regression':\n",
        "    model = LinearRegression()\n",
        "elif model_name == 'Random Forest':\n",
        "    model = RandomForestRegressor()\n",
        "else:\n",
        "    model = GradientBoostingRegressor()\n",
        "\n",
        "model.fit(X_train, y_train)\n",
        "y_pred = model.predict(X_test)\n",
        "\n",
        "st.write(f'RMSE: {np.sqrt(mean_squared_error(y_test, y_pred)):.2f}')\n",
        "st.write(f'MAE: {mean_absolute_error(y_test, y_pred):.2f}')\n",
        "st.write(f'R²: {r2_score(y_test, y_pred):.2f}')\n",
        "\n",
        "# Forecast\n",
        "test_dates = df['Date'].iloc[split:split + len(y_test)].values\n",
        "n_days = st.sidebar.slider(\"Forecast Days\", 1, 30, 5)\n",
        "future_df = df.copy()\n",
        "last_known_date = future_df['Date'].iloc[-1]\n",
        "future_dates, future_prices = [], []\n",
        "\n",
        "for i in range(n_days):\n",
        "    last_row = future_df.iloc[-1]\n",
        "    next_features = {\n",
        "        'Close': last_row['Close'],\n",
        "        'Open': last_row['Open'],\n",
        "        'High': last_row['High'],\n",
        "        'Low': last_row['Low'],\n",
        "        'Volume': last_row['Volume'],\n",
        "        'MA20': future_df['Close'].iloc[-20:].mean(),\n",
        "        'MA50': future_df['Close'].iloc[-50:].mean(),\n",
        "        'RSI': 100 - (100 / (1 + future_df['Close'].pct_change().iloc[-14:].mean()))\n",
        "    }\n",
        "    next_input = pd.DataFrame([next_features])\n",
        "    next_close = model.predict(next_input)[0]\n",
        "    next_date = last_known_date + pd.Timedelta(days=1)\n",
        "    last_known_date = next_date\n",
        "    future_dates.append(next_date)\n",
        "    future_prices.append(next_close)\n",
        "    next_row = {\n",
        "        'Date': next_date,\n",
        "        'Close': next_close,\n",
        "        'Open': last_row['Open'],\n",
        "        'High': last_row['High'],\n",
        "        'Low': last_row['Low'],\n",
        "        'Volume': last_row['Volume']\n",
        "    }\n",
        "    future_df = pd.concat([future_df, pd.DataFrame([next_row])], ignore_index=True)\n",
        "\n",
        "# Plotting test period with Plotly\n",
        "test_dates = pd.to_datetime(test_dates)\n",
        "fig1 = go.Figure()\n",
        "fig1.add_trace(go.Scatter(x=test_dates, y=y_test.values,\n",
        "                          mode='lines+markers', name='Actual',\n",
        "                          hovertemplate='Date: %{x}<br>Actual: %{y:.2f}<extra></extra>'))\n",
        "fig1.add_trace(go.Scatter(x=test_dates, y=y_pred,\n",
        "                          mode='lines+markers', name='Predicted',\n",
        "                          hovertemplate='Date: %{x}<br>Predicted: %{y:.2f}<extra></extra>'))\n",
        "\n",
        "fig1.update_layout(\n",
        "    title='Tesla Stock Price Forecast (Test Period)',\n",
        "    xaxis_title='Date',\n",
        "    yaxis_title='Close Price',\n",
        "    hovermode='x unified'\n",
        ")\n",
        "\n",
        "st.plotly_chart(fig1, use_container_width=True)\n",
        "\n",
        "# Plotting future forecast with Plotly\n",
        "future_dates_dt = pd.to_datetime(future_dates)\n",
        "fig2 = go.Figure()\n",
        "fig2.add_trace(go.Scatter(x=future_dates_dt, y=future_prices,\n",
        "                          mode='lines+markers',\n",
        "                          name='Future Forecast',\n",
        "                          hovertemplate='Date: %{x}<br>Forecasted Close: %{y:.2f}<extra></extra>'))\n",
        "\n",
        "fig2.update_layout(\n",
        "    title='Tesla Stock Price Future Forecast',\n",
        "    xaxis_title='Date',\n",
        "    yaxis_title='Forecasted Close Price',\n",
        "    hovermode='x unified'\n",
        ")\n",
        "\n",
        "st.plotly_chart(fig2, use_container_width=True)\n",
        "\n",
        "# Show data tables\n",
        "st.subheader(\"Prediction Results\")\n",
        "st.dataframe(pd.DataFrame({'Date': test_dates, 'Actual': y_test.values, 'Predicted': y_pred}).reset_index(drop=True))\n",
        "\n",
        "st.subheader(\"📈 Future Forecast\")\n",
        "st.dataframe(pd.DataFrame({'Date': future_dates, 'Forecasted Close': future_prices}).reset_index(drop=True))\n"
      ]
    },
    {
      "cell_type": "code",
      "execution_count": null,
      "metadata": {
        "id": "PBNJIW4KgkB4"
      },
      "outputs": [],
      "source": [
        "!streamlit run app.py &> /content/log.txt &\n"
      ]
    },
    {
      "cell_type": "code",
      "execution_count": null,
      "metadata": {
        "id": "OJ0FZOUUgrhD"
      },
      "outputs": [],
      "source": [
        "import pyngrok.ngrok as ngrok\n",
        "\n",
        "# Kill any existing tunnels\n",
        "ngrok.kill()\n",
        "\n",
        "# Connect to your Streamlit app\n",
        "public_url = ngrok.connect(\"http://localhost:8501\")\n",
        "print(f\"🌐 Your Streamlit app is live at: {public_url}\")"
      ]
    }
  ],
  "metadata": {
    "colab": {
      "provenance": []
    },
    "kernelspec": {
      "display_name": "Python 3",
      "name": "python3"
    },
    "language_info": {
      "name": "python"
    }
  },
  "nbformat": 4,
  "nbformat_minor": 0
}
